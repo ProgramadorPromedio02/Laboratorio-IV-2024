{
 "cells": [
  {
   "cell_type": "markdown",
   "metadata": {},
   "source": [
    "## Ejercicio 1:\n",
    "### Paso 1: Defino la lista de frases\n",
    "Primero, defino las frases de ejemplo y agregando una más a gusto."
   ]
  },
  {
   "cell_type": "code",
   "execution_count": 1,
   "metadata": {},
   "outputs": [],
   "source": [
    "phrases = [\n",
    "    \"Python es un lenguaje de programación\",\n",
    "    \"Es fuertemente tipado y de alto nivel\",\n",
    "    \"Por eso me gusta resolver problemas con este lenguaje\",\n",
    "    \"Las listas y los bucles son muy útiles\",\n",
    "    \"Son muy importantes en la funciones\"\n",
    "]"
   ]
  },
  {
   "cell_type": "markdown",
   "metadata": {},
   "source": [
    "### Paso 2: Defino la función `phrases_process` \n",
    "Ahora creo la función `phrases_process`, que se encargará de procesar cada frase para contar las palabras y los caracteres."
   ]
  },
  {
   "cell_type": "code",
   "execution_count": 2,
   "metadata": {},
   "outputs": [],
   "source": [
    "def phrases_process(phrases):\n",
    "    words_per_phrase = []\n",
    "    characters_per_phrase = []\n",
    "    for phrase in phrases:\n",
    "        words = phrase.split()  # Separa la frase en palabras\n",
    "        count_words = len(words)  # Cuenta el número de palabras\n",
    "        count_characters = len(phrase)  # Cuenta el número de caracteres\n",
    "\n",
    "        words_per_phrase.append(count_words)\n",
    "        characters_per_phrase.append(count_characters)\n",
    "\n",
    "        # Imprime la frase y las cantidades\n",
    "        print(f'La frase: \"{phrase}\"')\n",
    "        print(f'Tiene {count_words} palabras y {count_characters} caracteres.')\n",
    "        print()\n"
   ]
  },
  {
   "cell_type": "markdown",
   "metadata": {},
   "source": [
    "### Paso 3: Llamo a la función `phrases_process`\n",
    "Finalmente, llamando a la función `phrases_process` pasando como argumento la lista de frases para obtener el resultado esperado."
   ]
  },
  {
   "cell_type": "code",
   "execution_count": 3,
   "metadata": {},
   "outputs": [
    {
     "name": "stdout",
     "output_type": "stream",
     "text": [
      "La frase: \"Python es un lenguaje de programación\"\n",
      "Tiene 6 palabras y 37 caracteres.\n",
      "\n",
      "La frase: \"Es fuertemente tipado y de alto nivel\"\n",
      "Tiene 7 palabras y 37 caracteres.\n",
      "\n",
      "La frase: \"Por eso me gusta resolver problemas con este lenguaje\"\n",
      "Tiene 9 palabras y 53 caracteres.\n",
      "\n",
      "La frase: \"Las listas y los bucles son muy útiles\"\n",
      "Tiene 8 palabras y 38 caracteres.\n",
      "\n",
      "La frase: \"Son muy importantes en la funciones\"\n",
      "Tiene 6 palabras y 35 caracteres.\n",
      "\n"
     ]
    }
   ],
   "source": [
    "phrases_process(phrases)"
   ]
  },
  {
   "cell_type": "markdown",
   "metadata": {},
   "source": [
    "### Explicación\n",
    "1. **Separación de Palabras:** Utilizo el método `split()` para separar cada frase en una lista de palabras.\n",
    "2. **Conteo de Palabras y Caracteres:** Calculamos el número de palabras usando `len(words)` y el número de caracteres con `len(phrase)`.\n",
    "3. **Impresión de Resultados:** Imprimimos la frase original, el número de palabras y el número de caracteres de manera clara."
   ]
  },
  {
   "cell_type": "markdown",
   "metadata": {},
   "source": [
    "## Ejercicio 2\n",
    "### Paso 1: Defino la función `find_values`\n",
    "Defino la función `find_values` que va a iterar sobre los posibles valores de `a`, `b` y `c` en el rango del -10 a 10 para encontrar aquellos que satisfacen las ecuaciones."
   ]
  },
  {
   "cell_type": "code",
   "execution_count": 4,
   "metadata": {},
   "outputs": [],
   "source": [
    "def find_values():\n",
    "    for a in range(-10, 11):\n",
    "        for b in range(-10, 11):\n",
    "            for c in range(-10, 11):\n",
    "                if (a*0**2 + b*0 + c == 0 and\n",
    "                    a*1**2 + b*1 + c == 8 and\n",
    "                    a*2**2 + b*2 + c == 12 and\n",
    "                    a*3**2 + b*3 + c == 12 and\n",
    "                    a*5**2 + b*5 + c == 0):\n",
    "                    return a, b, c\n",
    "    return None"
   ]
  },
  {
   "cell_type": "markdown",
   "metadata": {},
   "source": [
    "### Paso 2: Llamo a la función `find_values`\n",
    "Ejecuto la función `find_values` para encontrar y mostrar los valores de `a`, `b`, y `c`."
   ]
  },
  {
   "cell_type": "code",
   "execution_count": 5,
   "metadata": {},
   "outputs": [
    {
     "name": "stdout",
     "output_type": "stream",
     "text": [
      "Los valores son: a = -2, b = 10, c = 0\n"
     ]
    }
   ],
   "source": [
    "a, b, c = find_values()\n",
    "print(f\"Los valores son: a = {a}, b = {b}, c = {c}\")"
   ]
  },
  {
   "cell_type": "markdown",
   "metadata": {},
   "source": [
    "## Explicación\n",
    "1. **Iteración** sobre Rango:# La función itera sobre todos los valores posibles de `a`, `b`, y `c` en el rango de -10 a 10.\n",
    "2. **Verificación de Condiciones:** Se verifica si los valores de `a`, `b`, y `c` satisfacen las ecuaciones dadas.\n",
    "3. **Retorno de Valores:** Si se encuentran valores que satisfacen las ecuaciones, estos se devuelven y se imprimen."
   ]
  }
 ],
 "metadata": {
  "kernelspec": {
   "display_name": "Python 3",
   "language": "python",
   "name": "python3"
  },
  "language_info": {
   "codemirror_mode": {
    "name": "ipython",
    "version": 3
   },
   "file_extension": ".py",
   "mimetype": "text/x-python",
   "name": "python",
   "nbconvert_exporter": "python",
   "pygments_lexer": "ipython3",
   "version": "3.12.4"
  }
 },
 "nbformat": 4,
 "nbformat_minor": 2
}
