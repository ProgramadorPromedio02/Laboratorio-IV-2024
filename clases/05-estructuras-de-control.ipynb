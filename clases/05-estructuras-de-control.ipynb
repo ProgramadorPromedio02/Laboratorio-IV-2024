{
 "cells": [
  {
   "cell_type": "code",
   "execution_count": null,
   "metadata": {},
   "outputs": [],
   "source": []
  },
  {
   "cell_type": "code",
   "execution_count": 4,
   "metadata": {},
   "outputs": [
    {
     "name": "stdout",
     "output_type": "stream",
     "text": [
      "Es mayor a 10\n"
     ]
    }
   ],
   "source": [
    "\n",
    "\n",
    "e = 20\n",
    "if e > 10:\n",
    "    print(\"Es mayor a 10\")\n",
    "else:\n",
    "    print(\"Es menor a 10\")  \n"
   ]
  },
  {
   "cell_type": "code",
   "execution_count": 8,
   "metadata": {},
   "outputs": [
    {
     "name": "stdout",
     "output_type": "stream",
     "text": [
      "30\n"
     ]
    }
   ],
   "source": [
    "a = 30\n",
    "b = 20\n",
    "if a == b:\n",
    "    c = a \n",
    "else: # a != b\n",
    "    if a > b:\n",
    "        c = a\n",
    "    else: # a != b y a < b\n",
    "        c = b\n",
    "\n",
    "print(c)"
   ]
  },
  {
   "cell_type": "code",
   "execution_count": 9,
   "metadata": {},
   "outputs": [
    {
     "name": "stdout",
     "output_type": "stream",
     "text": [
      "30\n"
     ]
    }
   ],
   "source": [
    "if a > b:\n",
    "    c = a\n",
    "else:\n",
    "    c = b\n",
    "print(c)"
   ]
  },
  {
   "cell_type": "code",
   "execution_count": 12,
   "metadata": {},
   "outputs": [],
   "source": [
    "a = 10\n",
    "b = 20\n",
    "c = 15\n",
    "\n",
    "if a > b and a > c:\n",
    "    d = a\n",
    "else:\n",
    "    if b > a and b > c:\n",
    "        d = b\n",
    "    else:\n",
    "        d = c\n",
    "        "
   ]
  },
  {
   "cell_type": "code",
   "execution_count": 13,
   "metadata": {},
   "outputs": [],
   "source": [
    "a = 10\n",
    "b = 20\n",
    "c = 15\n",
    "if a > b:\n",
    "    if a > c:\n",
    "        d = a\n",
    "    else:\n",
    "        d = c\n",
    "else:\n",
    "    if b > c:\n",
    "        d = b\n",
    "    else:\n",
    "        d = c"
   ]
  },
  {
   "cell_type": "code",
   "execution_count": 14,
   "metadata": {},
   "outputs": [],
   "source": [
    "a = 10\n",
    "b = 20\n",
    "c = 15\n",
    "\n",
    "if a > b and a > c:\n",
    "    d = a\n",
    "if b > a and b > c:\n",
    "    d = b\n",
    "if c > a and c > b:\n",
    "    d = c\n"
   ]
  },
  {
   "cell_type": "code",
   "execution_count": 17,
   "metadata": {},
   "outputs": [
    {
     "name": "stdout",
     "output_type": "stream",
     "text": [
      "20\n"
     ]
    }
   ],
   "source": [
    "a = 10\n",
    "b = 20\n",
    "c = 15\n",
    "\n",
    "d = a \n",
    "if b > d:\n",
    "    d = b\n",
    "if c > d:\n",
    "    d = c\n",
    "\n",
    "print(d)"
   ]
  },
  {
   "cell_type": "code",
   "execution_count": 18,
   "metadata": {},
   "outputs": [],
   "source": [
    "a = 10\n",
    "b = 20\n",
    "c = 15\n",
    "\n",
    "if a > b:\n",
    "    if a > c:\n",
    "        d = a\n",
    "    else:\n",
    "        d = c\n",
    "elif b > c:\n",
    "    d = b\n",
    "else:\n",
    "    d = c\n"
   ]
  },
  {
   "cell_type": "code",
   "execution_count": 20,
   "metadata": {},
   "outputs": [
    {
     "name": "stdout",
     "output_type": "stream",
     "text": [
      "Joven\n"
     ]
    }
   ],
   "source": [
    "edad = 20\n",
    "if edad < 18:\n",
    "    print(\"Menor de edad\")\n",
    "elif edad < 30:\n",
    "    print(\"Joven\")\n",
    "elif edad < 60:\n",
    "    print(\"Adulto\")\n",
    "else:\n",
    "    print(\"Adulto mayor\")\n",
    "\n"
   ]
  },
  {
   "cell_type": "code",
   "execution_count": 21,
   "metadata": {},
   "outputs": [
    {
     "name": "stdout",
     "output_type": "stream",
     "text": [
      "55\n"
     ]
    }
   ],
   "source": [
    "s = 0\n",
    "i = 1\n",
    "while i <= 10:\n",
    "    s += i\n",
    "    i += 1\n",
    "print(s)"
   ]
  },
  {
   "cell_type": "code",
   "execution_count": 24,
   "metadata": {},
   "outputs": [
    {
     "name": "stdout",
     "output_type": "stream",
     "text": [
      "3628800\n"
     ]
    }
   ],
   "source": [
    "f = 1\n",
    "i = 1\n",
    "while i <= 10:\n",
    "    f *= i\n",
    "    i += 1\n",
    "print(f)\n"
   ]
  },
  {
   "cell_type": "code",
   "execution_count": 25,
   "metadata": {},
   "outputs": [
    {
     "name": "stdout",
     "output_type": "stream",
     "text": [
      "40\n"
     ]
    }
   ],
   "source": [
    "l = [10, 20, 15, 30, 40, 34]\n",
    "\n",
    "mayor = l[0]\n",
    "i = 1\n",
    "while i < len(l):\n",
    "    if l[i] > mayor:\n",
    "        mayor = l[i]\n",
    "    i += 1\n",
    "print(mayor)\n",
    "\n",
    "\n"
   ]
  },
  {
   "cell_type": "code",
   "execution_count": 26,
   "metadata": {},
   "outputs": [
    {
     "ename": "KeyboardInterrupt",
     "evalue": "",
     "output_type": "error",
     "traceback": [
      "\u001b[0;31m---------------------------------------------------------------------------\u001b[0m",
      "\u001b[0;31mKeyboardInterrupt\u001b[0m                         Traceback (most recent call last)",
      "Cell \u001b[0;32mIn[26], line 14\u001b[0m\n\u001b[1;32m     12\u001b[0m \u001b[38;5;28;01mwhile\u001b[39;00m i \u001b[38;5;241m<\u001b[39m \u001b[38;5;28mlen\u001b[39m(l):\n\u001b[1;32m     13\u001b[0m     \u001b[38;5;28;01mif\u001b[39;00m l[i] \u001b[38;5;241m==\u001b[39m \u001b[38;5;241m7\u001b[39m:\n\u001b[0;32m---> 14\u001b[0m         \u001b[38;5;28;01mcontinue\u001b[39;00m\n\u001b[1;32m     15\u001b[0m     \u001b[38;5;28;01mif\u001b[39;00m l[i] \u001b[38;5;241m==\u001b[39m \u001b[38;5;241m17\u001b[39m:\n\u001b[1;32m     16\u001b[0m         \u001b[38;5;28;01mcontinue\u001b[39;00m\n",
      "\u001b[0;31mKeyboardInterrupt\u001b[0m: "
     ]
    }
   ],
   "source": [
    "l = [1, 2, 3, 4, 5, 6, 7, 8, 9, 10]\n",
    "\n",
    "s = 0\n",
    "i = 0\n",
    "while i < len(l):\n",
    "    if l[i] % 2 == 0:\n",
    "        s += l[i]\n",
    "    i += 1\n",
    "\n",
    "s = 0\n",
    "i = 0 \n",
    "while i < len(l):\n",
    "    if l[i] == 7:\n",
    "        continue\n",
    "    if l[i] == 17:\n",
    "        continue\n",
    "    s += l[i]\n",
    "    i += 1\n",
    "print(s)\n",
    "\n"
   ]
  },
  {
   "cell_type": "code",
   "execution_count": null,
   "metadata": {},
   "outputs": [],
   "source": [
    "f = 1\n",
    "i = 1\n",
    "while True:\n",
    "    f *= i\n",
    "    i += 1\n",
    "    if f > 1_000_000:\n",
    "        break\n",
    "print(f)\n",
    "\n"
   ]
  },
  {
   "cell_type": "code",
   "execution_count": null,
   "metadata": {},
   "outputs": [],
   "source": [
    "a = [10, 15, 12, 20, 30, 25, 35]\n",
    "i = 0\n",
    "encontrado = False\n",
    "while i < len(a):\n",
    "    if a[i] == 20:\n",
    "        encontrado = True\n",
    "    i += 1\n",
    "\n",
    "if encontrado:\n",
    "    print(\"Encontrado\")\n",
    "else:\n",
    "    print(\"No encontrado\")\n",
    "\n",
    "i = 0\n",
    "while i < len(a):\n",
    "    if a[i] == 20:\n",
    "        print(\"Encontrado\")\n",
    "        break\n",
    "    i += 1\n",
    "else:\n",
    "    print(\"No encontrado\")"
   ]
  },
  {
   "cell_type": "code",
   "execution_count": null,
   "metadata": {},
   "outputs": [],
   "source": [
    "# for\n",
    "\n",
    "l = [10, 20, 30, 40, 50, 60, 70, 80, 90, 100]\n",
    "s = 0\n",
    "for e in l:\n",
    "    s += e\n",
    "print(s)\n",
    "\n",
    "# La suma de los elementos pares\n",
    "for i in range(0,len(l),2):\n",
    "    s += l[i]\n",
    "print(s)\n",
    "\n",
    "for x in l:\n",
    "    if x == 15:\n",
    "        print(\"Encontrado\")\n",
    "        break\n",
    "else:\n",
    "    print(\"No encontrado\")\n",
    "    \n"
   ]
  },
  {
   "cell_type": "code",
   "execution_count": 40,
   "metadata": {},
   "outputs": [
    {
     "name": "stdout",
     "output_type": "stream",
     "text": [
      "ERROR\n"
     ]
    }
   ],
   "source": [
    "e = \"(10 + 20)) + (3 \"\n",
    "e = \")(\"\n",
    "p = 0\n",
    "for x in e:\n",
    "    if x == \"(\":\n",
    "        p += 1 \n",
    "    if x == \")\":\n",
    "        p -= 1\n",
    "        if p < 0:\n",
    "            break\n",
    "if p == 0:\n",
    "    print(\"ok\")\n",
    "else:\n",
    "    print(\"ERROR\")\n"
   ]
  },
  {
   "cell_type": "code",
   "execution_count": 2,
   "metadata": {},
   "outputs": [
    {
     "name": "stdout",
     "output_type": "stream",
     "text": [
      "['(', '1', '+', '2456', '*', '34', ')']\n"
     ]
    }
   ],
   "source": [
    "e = \"(1+2456*34)\"\n",
    "# ['(','1','+','2324','*','34',')']\n",
    "\n",
    "t = []\n",
    "for c in e:\n",
    "    if c.isnumeric():\n",
    "        if t and t[-1].isnumeric():\n",
    "            t[-1] += c \n",
    "        else:\n",
    "            t.append(c)\n",
    "    else:\n",
    "        t.append(c)\n",
    "\n",
    "print(t)\n",
    "    "
   ]
  }
 ],
 "metadata": {
  "kernelspec": {
   "display_name": "Python 3",
   "language": "python",
   "name": "python3"
  },
  "language_info": {
   "codemirror_mode": {
    "name": "ipython",
    "version": 3
   },
   "file_extension": ".py",
   "mimetype": "text/x-python",
   "name": "python",
   "nbconvert_exporter": "python",
   "pygments_lexer": "ipython3",
   "version": "3.12.5"
  }
 },
 "nbformat": 4,
 "nbformat_minor": 2
}
