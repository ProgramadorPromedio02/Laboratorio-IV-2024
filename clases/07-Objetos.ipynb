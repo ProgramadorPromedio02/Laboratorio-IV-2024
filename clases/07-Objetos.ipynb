{
 "cells": [
  {
   "cell_type": "code",
   "execution_count": 1,
   "metadata": {},
   "outputs": [],
   "source": [
    "def stack():\n",
    "    return {\"cantidad\":0, \"item\": [None] * 10}\n",
    "\n",
    "def push(pila, item):\n",
    "    if pila[\"cantidad\"] < 10:\n",
    "        pila[\"item\"][pila[\"cantidad\"]] = item\n",
    "        pila[\"cantidad\"] += 1\n",
    "    else:\n",
    "        print(\"Pila llena\")\n",
    "\n",
    "def pop(pila):\n",
    "    if pila[\"cantidad\"] > 0:\n",
    "        pila[\"cantidad\"] -= 1\n",
    "        return pila[\"item\"][pila[\"cantidad\"]]\n",
    "    else:\n",
    "        print(\"Pila vacia\")\n",
    "    \n",
    "def empty(pila):\n",
    "    return pila[\"cantidad\"] == 0\n"
   ]
  },
  {
   "cell_type": "code",
   "execution_count": 2,
   "metadata": {},
   "outputs": [
    {
     "name": "stdout",
     "output_type": "stream",
     "text": [
      "3\n",
      "2\n",
      "1\n"
     ]
    }
   ],
   "source": [
    "def stack():\n",
    "    return []\n",
    "\n",
    "def push(pila, item):\n",
    "    pila.append(item)\n",
    "\n",
    "def pop(pila):\n",
    "    return pila.pop()\n",
    "\n",
    "def empty(pila):\n",
    "    return len(pila) == 0\n"
   ]
  },
  {
   "cell_type": "code",
   "execution_count": 2,
   "metadata": {},
   "outputs": [
    {
     "name": "stdout",
     "output_type": "stream",
     "text": [
      "3\n",
      "2\n",
      "1\n"
     ]
    }
   ],
   "source": [
    "a = stack()\n",
    "push(a, 1)\n",
    "push(a, 2)\n",
    "push(a, 3)\n",
    "while not empty(a):\n",
    "    print(pop(a))\n",
    "\n"
   ]
  },
  {
   "cell_type": "code",
   "execution_count": 4,
   "metadata": {},
   "outputs": [
    {
     "name": "stdout",
     "output_type": "stream",
     "text": [
      "3\n",
      "2\n",
      "1\n"
     ]
    }
   ],
   "source": [
    "class Stack:\n",
    "    def __init__(self):\n",
    "        self.item = []\n",
    "\n",
    "    def push(self, item):\n",
    "        self.item.append(item)\n",
    "\n",
    "    def pop(self):\n",
    "        return self.item.pop()\n",
    "    \n",
    "    def empty(self):\n",
    "        return len(self.item) == 0 \n",
    "\n",
    "a = Stack()\n",
    "a.push(1)  # Stack.push(a, 1)\n",
    "a.push(2)\n",
    "a.push(3)\n",
    "while not a.empty():\n",
    "    print(a.pop()) # Stack.pop(a)\n",
    "\n"
   ]
  },
  {
   "cell_type": "code",
   "execution_count": 25,
   "metadata": {},
   "outputs": [
    {
     "name": "stdout",
     "output_type": "stream",
     "text": [
      "Juan (25)\n",
      "Juan (25) <class 'str'>\n",
      "convirtiendo a bool\n"
     ]
    },
    {
     "ename": "TypeError",
     "evalue": "object of type 'Persona' has no len()",
     "output_type": "error",
     "traceback": [
      "\u001b[0;31m---------------------------------------------------------------------------\u001b[0m",
      "\u001b[0;31mTypeError\u001b[0m                                 Traceback (most recent call last)",
      "Cell \u001b[0;32mIn[25], line 25\u001b[0m\n\u001b[1;32m     23\u001b[0m \u001b[38;5;28mprint\u001b[39m(s, \u001b[38;5;28mtype\u001b[39m(s))\n\u001b[1;32m     24\u001b[0m j\u001b[38;5;241m.\u001b[39medad \u001b[38;5;241m=\u001b[39m \u001b[38;5;241m0\u001b[39m \n\u001b[0;32m---> 25\u001b[0m \u001b[38;5;28;01mif\u001b[39;00m j:\n\u001b[1;32m     26\u001b[0m     \u001b[38;5;28mprint\u001b[39m(\u001b[38;5;124m\"\u001b[39m\u001b[38;5;124mJuan existe\u001b[39m\u001b[38;5;124m\"\u001b[39m)\n\u001b[1;32m     27\u001b[0m \u001b[38;5;28;01melse\u001b[39;00m:\n",
      "Cell \u001b[0;32mIn[25], line 12\u001b[0m, in \u001b[0;36mPersona.__bool__\u001b[0;34m(self)\u001b[0m\n\u001b[1;32m     10\u001b[0m \u001b[38;5;28;01mdef\u001b[39;00m \u001b[38;5;21m__bool__\u001b[39m(\u001b[38;5;28mself\u001b[39m):\n\u001b[1;32m     11\u001b[0m     \u001b[38;5;28mprint\u001b[39m(\u001b[38;5;124m\"\u001b[39m\u001b[38;5;124mconvirtiendo a bool\u001b[39m\u001b[38;5;124m\"\u001b[39m)\n\u001b[0;32m---> 12\u001b[0m     \u001b[38;5;28;01mreturn\u001b[39;00m \u001b[38;5;28;43mlen\u001b[39;49m\u001b[43m(\u001b[49m\u001b[38;5;28;43mself\u001b[39;49m\u001b[43m)\u001b[49m \u001b[38;5;241m>\u001b[39m \u001b[38;5;241m0\u001b[39m\n",
      "\u001b[0;31mTypeError\u001b[0m: object of type 'Persona' has no len()"
     ]
    }
   ],
   "source": [
    "class Persona:\n",
    "    def __init__(self, nombre, edad, apellido=\"Gomez\"):\n",
    "        self.nombre = nombre\n",
    "        self.edad = edad\n",
    "        self.apellido = apellido\n",
    " \n",
    "    def __str__(self):\n",
    "        return f\"{self.nombre} ({self.edad})\"\n",
    "    \n",
    "    def __bool__(self):\n",
    "        print(\"convirtiendo a bool\")\n",
    "        return len(self) > 0\n",
    "    \n",
    "    # def __len__(self):\n",
    "    #     return self.edad\n",
    "\n",
    "j = Persona(\"Juan\", 25)\n",
    "m = Persona(\"Maria\", 30)\n",
    "\n",
    "print(j)\n",
    "\n",
    "s = str(j)\n",
    "print(s, type(s))\n",
    "j.edad = 0 \n",
    "if j:\n",
    "    print(\"Juan existe\")\n",
    "else:\n",
    "    print(\"Juan no existe\")"
   ]
  },
  {
   "cell_type": "code",
   "execution_count": 29,
   "metadata": {},
   "outputs": [
    {
     "name": "stdout",
     "output_type": "stream",
     "text": [
      "{'nombre': 'Pedro', 'edad': 0, 'apellido': 'Gomez'}\n",
      "{'nombre': 'Pedro', 'edad': 0, 'apellido': 'Perez'}\n"
     ]
    }
   ],
   "source": [
    "p = Persona(\"Pedro\", 0)\n",
    "dir(p)\n",
    "print(p.__dict__)\n",
    "p.apellido = \"Perez\"\n",
    "print(p.__dict__)\n"
   ]
  },
  {
   "cell_type": "code",
   "execution_count": null,
   "metadata": {},
   "outputs": [],
   "source": []
  }
 ],
 "metadata": {
  "kernelspec": {
   "display_name": "Python 3",
   "language": "python",
   "name": "python3"
  },
  "language_info": {
   "codemirror_mode": {
    "name": "ipython",
    "version": 3
   },
   "file_extension": ".py",
   "mimetype": "text/x-python",
   "name": "python",
   "nbconvert_exporter": "python",
   "pygments_lexer": "ipython3",
   "version": "3.12.5"
  }
 },
 "nbformat": 4,
 "nbformat_minor": 2
}
