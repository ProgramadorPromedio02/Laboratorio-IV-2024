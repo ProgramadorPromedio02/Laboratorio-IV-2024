{
 "cells": [
  {
   "cell_type": "code",
   "execution_count": 68,
   "metadata": {},
   "outputs": [
    {
     "name": "stdout",
     "output_type": "stream",
     "text": [
      "Resultados para w=[0, 0], b=0\n",
      "[0, 0] 0 😄\n",
      "[0, 1] 0 😄\n",
      "[1, 0] 0 😄\n",
      "[1, 1] 0 😡\n",
      "Resultados para w=[1, 1], b=-1.5\n",
      "[0, 0] 0 😄\n",
      "[0, 1] 0 😄\n",
      "[1, 0] 0 😄\n",
      "[1, 1] 1 😄\n",
      "Resultados para w=[1, 1], b=-0.5\n",
      "[0, 0] 0 😄\n",
      "[0, 1] 1 😄\n",
      "[1, 0] 1 😄\n",
      "[1, 1] 1 😄\n"
     ]
    }
   ],
   "source": [
    "import random \n",
    "\n",
    "# Implementación directa de un perceptrón simple \n",
    "\n",
    "def perceptron(x,w,b):\n",
    "    z = 0\n",
    "    for i in range(len(x)):\n",
    "        z += x[i]*w[i]\n",
    "    z += b\n",
    "    return 1 if z > 0 else 0\n",
    "\n",
    "def mostrar_resultados(X,y,w,b):\n",
    "    print(f\"Resultados para {w=}, {b=}\")\n",
    "    for xi, yi in zip(X,y):\n",
    "        yp = perceptron(xi, w, b)\n",
    "        print(xi, yp, '😄' if yp == yi else '😡')\n",
    "\n",
    "# Datos de entrenamientos para la compuerta lógica AND\n",
    "X = [[0,0], [0,1], [1,0], [1,1]]\n",
    "\n",
    "y = [0, 0, 0, 1] # and\n",
    "w = [0, 0]; b = 0 # Inicialización de los pesos y el sesgo \n",
    "mostrar_resultados(X,y,w,b)\n",
    "\n",
    "w = [1, 1]; b = -1.5 # parametros que hacen que el perceptron funcione para AND\n",
    "mostrar_resultados(X, y, w, b)\n",
    "\n",
    "y = [0, 1, 1, 1] # or\n",
    "w = [1, 1]; b = -0.5 # parametros que hacen que el perceptron funcione para OR\n",
    "mostrar_resultados(X, y, w, b)"
   ]
  },
  {
   "cell_type": "code",
   "execution_count": null,
   "metadata": {},
   "outputs": [],
   "source": [
    "\n",
    "w=[0,0]; b=0\n",
    "lr = 0.1\n",
    "for _ in range(15):\n",
    "    print(f\"{w=}, {b=}\")\n",
    "\n",
    "    for xi, yi in zip(X,y):\n",
    "        yp = perceptron(xi, w, b)\n",
    "        error = yi - yp\n",
    "        for j in range(len(w)):\n",
    "            w[j] += lr * error * xi[j]\n",
    "        b += lr * error\n",
    "        print(xi, yi, yp)\n",
    "\n",
    "    print('---')\n"
   ]
  },
  {
   "cell_type": "code",
   "execution_count": 31,
   "metadata": {},
   "outputs": [],
   "source": [
    "import numpy as np \n",
    "import random\n",
    "class Perceptron:\n",
    "    def __init__(self, aprendizaje=0.001, epocas=1000):\n",
    "        self.aprendizaje = aprendizaje\n",
    "        self.epocas = epocas\n",
    "        self.w = None\n",
    "        self.b = None   \n",
    "        self.errores = []\n",
    "\n",
    "    def perceptron(self, x):\n",
    "        return np.dot(x, self.w) + self.b\n",
    "\n",
    "    def activacion(self, z): # Escalón unitario\n",
    "        return 0 if z <= 0 else 1\n",
    "\n",
    "    def error(self, y, y_pred):\n",
    "        return ((y - y_pred)**2).mean()\n",
    "    \n",
    "    def ajustar(self, X, y):\n",
    "        X = np.array(X)\n",
    "        y = np.array(y)\n",
    "        \n",
    "        self.w = np.random.rand(X.shape[1])\n",
    "        self.b = random.random()\n",
    "\n",
    "        for _ in range(self.epocas):\n",
    "            # Ajustamos los parámetros de todas las muestras en forma simultánea\n",
    "\n",
    "            # Forward propagation - Propagación hacia adelante\n",
    "            y_pred = np.array([self.predecir(x) for x in X])\n",
    "            error  = y - y_pred\n",
    "\n",
    "            # Backpropagation - Retropropagación \n",
    "            self.w += self.aprendizaje * np.dot(error, X)\n",
    "            self.b += self.aprendizaje * error.sum()\n",
    "\n",
    "            self.errores.append(self.error(y, y_pred))\n",
    "        return self \n",
    "\n",
    "    def predecir(self, x):\n",
    "        return self.activacion(self.perceptron(x))\n",
    "\n",
    "class PerceptronRegresion(Perceptron):\n",
    "    def activacion(self, z):\n",
    "        return z\n"
   ]
  },
  {
   "cell_type": "code",
   "execution_count": 25,
   "metadata": {},
   "outputs": [
    {
     "name": "stdout",
     "output_type": "stream",
     "text": [
      "1   1 prediccion:1 real:0\n",
      "2   1 prediccion:1 real:0\n",
      "1  20 prediccion:1 real:0\n",
      "2  20 prediccion:1 real:0\n",
      "1  40 prediccion:1 real:0\n",
      "2  40 prediccion:0 real:0\n",
      "1  60 prediccion:0 real:1\n",
      "2  60 prediccion:1 real:1\n",
      "1  90 prediccion:0 real:1\n",
      "2  90 prediccion:1 real:1\n",
      "1 120 prediccion:0 real:0\n",
      "2 120 prediccion:1 real:0\n"
     ]
    }
   ],
   "source": [
    "import pandas as pd \n",
    "def cargar(tipo='Iris-setosa'):\n",
    "    datos = pd.read_csv('iris.csv')\n",
    "    X = datos.iloc[:, 0:4].values\n",
    "    tipos = datos.iloc[:, 4].values\n",
    "    y = np.where(tipos == tipo, 1, 0)\n",
    "    return X, y \n",
    "\n",
    "X, y = cargar('Iris-setosa')\n",
    "p = Perceptron()\n",
    "p.ajustar(X,y)\n",
    "\n",
    "X, y = cargar('Iris-versicolor')\n",
    "p2 = Perceptron()\n",
    "p2.ajustar(X,y)\n",
    "\n",
    "def mostrar():\n",
    "    for n in [1, 20,40,60,90,120]:\n",
    "        e1 = X[n]\n",
    "        s1 = y[n]\n",
    "        print(f\"1 {n:3} prediccion:{p.predecir(e1)} real:{s1}\")\n",
    "        print(f\"2 {n:3} prediccion:{p2.predecir(e1)} real:{s1}\")\n",
    "\n",
    "mostrar()"
   ]
  },
  {
   "cell_type": "code",
   "execution_count": 59,
   "metadata": {},
   "outputs": [
    {
     "name": "stdout",
     "output_type": "stream",
     "text": [
      "Si hace 30 grados, venderemos [643.80493379] helados\n"
     ]
    },
    {
     "data": {
      "image/png": "[encoded data removed]",
      "text/plain": [
       "<Figure size 640x480 with 1 Axes>"
      ]
     },
     "metadata": {},
     "output_type": "display_data"
    }
   ],
   "source": [
    "import matplotlib.pyplot as plt\n",
    "\n",
    "datos = pd.read_csv('helados.csv')\n",
    "X = datos.iloc[:,0:1].values\n",
    "y = datos.iloc[:,1]\n",
    "\n",
    "p = PerceptronRegresion(0.00001, 10 )\n",
    "p.ajustar(X,y)\n",
    "\n",
    "plt.plot(p.errores)\n",
    "# plt.scatter(X,y)\n",
    "# plt.plot(X, [p.predecir(x) for x in X], color='red')\n",
    "g = 30\n",
    "print(f\"Si hace {g} grados, venderemos {p.predecir(g)} helados\")"
   ]
  }
 ],
 "metadata": {
  "kernelspec": {
   "display_name": "Python 3",
   "language": "python",
   "name": "python3"
  },
  "language_info": {
   "codemirror_mode": {
    "name": "ipython",
    "version": 3
   },
   "file_extension": ".py",
   "mimetype": "text/x-python",
   "name": "python",
   "nbconvert_exporter": "python",
   "pygments_lexer": "ipython3",
   "version": "3.12.5"
  }
 },
 "nbformat": 4,
 "nbformat_minor": 2
}
