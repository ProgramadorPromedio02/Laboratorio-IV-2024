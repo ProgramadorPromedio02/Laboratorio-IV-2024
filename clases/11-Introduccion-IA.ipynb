{
 "cells": [
  {
   "cell_type": "markdown",
   "metadata": {},
   "source": [
    "# Inteligencia Artificial\n",
    "\n",
    "# Machine learning : Aprendizaje automatico.\n",
    "Le demos ejemoplo de datos y el algoritmo aprende a predecir.\n",
    "\n",
    "- Supervisados: Se le da un conjunto de datos de entrada y salida etiquetada.\n",
    "- No supervisado: Algoritos que trantra de encontrar patrones en los datos.\n",
    "- Reforzado: Aprendizaje por refuerzo, se le da un conjunto de datos y el algoritmo aprende a tomar decisiones.\n",
    "\n",
    "# Redes Neuronales: Deep Learning (Aprendizaje profundo)\n",
    "\n",
    "- Perceptrón: Es la unidad básica de una red neuronal."
   ]
  },
  {
   "cell_type": "markdown",
   "metadata": {},
   "source": []
  },
  {
   "cell_type": "code",
   "execution_count": 35,
   "metadata": {},
   "outputs": [
    {
     "name": "stdout",
     "output_type": "stream",
     "text": [
      "Parametros finales: w=1.6162651605078209, b=20.59181401099518 error: 14.83439172280113\n",
      "EL peso de una mujer de 22 años es: 56.14964754216724\n"
     ]
    },
    {
     "data": {
      "image/png": "[encoded data removed]",
      "text/plain": [
       "<Figure size 640x480 with 1 Axes>"
      ]
     },
     "metadata": {},
     "output_type": "display_data"
    }
   ],
   "source": [
    "import matplotlib.pyplot as plt\n",
    "import random \n",
    "\n",
    "X = [10, 15, 20, 25] # Edad\n",
    "Y = [32, 40, 55, 64] # Peso en Kg de mujeres\n",
    "\n",
    "def perceptron(x, w, b):\n",
    "    return x * w + b\n",
    "\n",
    "def error(y,  yp):\n",
    "    suma = 0\n",
    "    for i in range(len(y)):\n",
    "        suma += (y[i] - yp[i]) ** 2\n",
    "    return suma / len(y)\n",
    "\n",
    "# f(10) == 32\n",
    "# f(15) == 50\n",
    "# f(20) == 55\n",
    "# f(25) == 64\n",
    "\n",
    "w = 1 \n",
    "b = 20\n",
    "\n",
    "eo = 10000\n",
    "aprendizaje = 0.02\n",
    "epocas = 0 \n",
    "\n",
    "while epocas < 1000:\n",
    "    # Encontar valores para w y b que esten cerca de los anteriores\n",
    "    wn = w + random.random() * aprendizaje\n",
    "    bn = b + random.random() * aprendizaje\n",
    "\n",
    "    yp = [ perceptron(x, wn, bn) for x in X ]\n",
    "    en = error(Y, yp)\n",
    "    \n",
    "    # print(f\"Error: {en} w: {wn} b: {bn}, {yp=}\")\n",
    "    if en < eo:\n",
    "        eo = en \n",
    "        w  = wn\n",
    "        b  = bn\n",
    "    epocas += 1\n",
    "print(f\"Parametros finales: {w=}, {b=} error: {eo}\")\n",
    "print(f\"EL peso de una mujer de 22 años es: {perceptron(22, w, b)}\")\n",
    "plt.plot(X, Y, 'ro')\n",
    "plt.plot(X, [perceptron(x, w, b) for x in X])\n",
    "plt.xlim(10, 30)\n",
    "plt.ylim(30, 70)\n",
    "plt.grid()\n"
   ]
  },
  {
   "cell_type": "code",
   "execution_count": 116,
   "metadata": {},
   "outputs": [
    {
     "name": "stdout",
     "output_type": "stream",
     "text": [
      "Error: 2 w1: 0.7970530805584572 w2: -0.027952682861495104 b: -0.7921312025026876, yp=[0, 0, 1, 0] en=2\n",
      "Error: 1 w1: 0.7970530805584572 w2: 0.0720473171385049 b: -0.6921312025026877, yp=[0, 0, 1, 1] en=1\n",
      "Error: 1 w1: 0.7970530805584572 w2: 0.1720473171385049 b: -0.5921312025026877, yp=[0, 0, 1, 1] en=1\n",
      "Error: 1 w1: 0.7970530805584572 w2: 0.27204731713850494 b: -0.4921312025026877, yp=[0, 0, 1, 1] en=1\n",
      "Error: 1 w1: 0.7970530805584572 w2: 0.3720473171385049 b: -0.39213120250268774, yp=[0, 0, 1, 1] en=1\n",
      "Error: 0 w1: 0.7970530805584572 w2: 0.4720473171385049 b: -0.29213120250268776, yp=[0, 1, 1, 1] en=0\n",
      "Parámetros finales: w1=0.7970530805584572, w2=0.4720473171385049, b=-0.29213120250268776 error: 0\n",
      "AND(0, 0) = 0\n",
      "AND(0, 1) = 1\n",
      "AND(1, 0) = 1\n",
      "AND(1, 1) = 1\n"
     ]
    }
   ],
   "source": [
    "import random\n",
    "\n",
    "# Datos de entrada (X) y salida (Y) para la función AND\n",
    "X = [(0, 0), (0, 1), (1, 0), (1, 1)]\n",
    "#Y= [ 0,      0,      0,      1]  # AND\n",
    "Y = [ 0,      1,      1,      1]  # OR\n",
    "\n",
    "def perceptron(x1, x2, w1, w2, b):\n",
    "    return x1 * w1 + x2 * w2 + b\n",
    "\n",
    "def activacion(x):  # Función escalón\n",
    "    return 1 if x >= 0 else 0\n",
    "\n",
    "def error(y, yp):\n",
    "    return sum([(y[i] - yp[i])**2 for i in range(len(y))])\n",
    "\n",
    "# Inicializar los pesos y el sesgo\n",
    "w1 = random.random() * 2 - 1\n",
    "w2 = random.random() * 2 - 1\n",
    "b  = random.random() * 2 - 1\n",
    "\n",
    "aprendizaje = 0.1\n",
    "epocas = 0\n",
    "max_epocas = 10000\n",
    "\n",
    "while epocas < max_epocas:\n",
    "    yp = [activacion(perceptron(x[0], x[1], w1, w2, b)) for x in X]\n",
    "    en = error(Y, yp)\n",
    "    print(f\"Error: {en} w1: {w1} w2: {w2} b: {b}, {yp=} {en=}\")\n",
    "    \n",
    "    if en == 0:\n",
    "        break\n",
    "\n",
    "    # Ajustar los pesos y el sesgo\n",
    "    for i in range(len(X)):\n",
    "        x1, x2 = X[i]\n",
    "        y_pred = activacion(perceptron(x1, x2, w1, w2, b))\n",
    "        e = Y[i] - y_pred\n",
    "        w1 += aprendizaje * e * x1\n",
    "        w2 += aprendizaje * e * x2\n",
    "        b  += aprendizaje * e\n",
    "\n",
    "    epocas += 1\n",
    "\n",
    "print(f\"Parámetros finales: {w1=}, {w2=}, {b=} error: {en}\")\n",
    "print(f\"AND(0, 0) = {activacion(perceptron(0, 0, w1, w2, b))}\")\n",
    "print(f\"AND(0, 1) = {activacion(perceptron(0, 1, w1, w2, b))}\")\n",
    "print(f\"AND(1, 0) = {activacion(perceptron(1, 0, w1, w2, b))}\")\n",
    "print(f\"AND(1, 1) = {activacion(perceptron(1, 1, w1, w2, b))}\")"
   ]
  }
 ],
 "metadata": {
  "kernelspec": {
   "display_name": "Python 3",
   "language": "python",
   "name": "python3"
  },
  "language_info": {
   "codemirror_mode": {
    "name": "ipython",
    "version": 3
   },
   "file_extension": ".py",
   "mimetype": "text/x-python",
   "name": "python",
   "nbconvert_exporter": "python",
   "pygments_lexer": "ipython3",
   "version": "3.12.5"
  }
 },
 "nbformat": 4,
 "nbformat_minor": 2
}
