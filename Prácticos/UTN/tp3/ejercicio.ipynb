{
 "cells": [
  {
   "cell_type": "markdown",
   "metadata": {},
   "source": [
    "#TP3"
   ]
  },
  {
   "cell_type": "markdown",
   "metadata": {},
   "source": [
    "## Ejercicio 1: Cargar Datos de ventas.\n",
    "\n",
    "El archivo datos.dat contiene el registro de las ventas realizadas.\n",
    "\n",
    "Tiene un formato de ancho fijo:\n",
    "- fecha:    10 lugares\n",
    "- producto: 30 lugares\n",
    "- precio:   10 lugares\n",
    "- cantidad:  5 lugares\n",
    "\n",
    "hacer una funcion que carge los en una lista de diccionarios. \n",
    "\n",
    "nota: con \n",
    "```python\n",
    "lineas = open(\"datos.dat\", \"r\").readlines() \n",
    "```\n",
    "puede obtener la lista de string de todos los datos "
   ]
  },
  {
   "cell_type": "code",
   "execution_count": 18,
   "metadata": {},
   "outputs": [
    {
     "name": "stdout",
     "output_type": "stream",
     "text": [
      "{'fecha': '2024-08-27', 'producto': 'Mirinda', 'precio': 1510, 'cantidad': 14}\n",
      "{'fecha': '2024-08-27', 'producto': 'Mirinda', 'precio': 1560, 'cantidad': 12}\n",
      "{'fecha': '2024-08-28', 'producto': 'Torasso', 'precio': 940, 'cantidad': 8}\n",
      "{'fecha': '2024-08-29', 'producto': 'Pepsi Cola', 'precio': 1210, 'cantidad': 10}\n",
      "{'fecha': '2024-08-30', 'producto': 'Mirinda', 'precio': 1520, 'cantidad': 1}\n"
     ]
    }
   ],
   "source": [
    "def cargar_datos():\n",
    "    with open(\"datos.dat\", \"r\") as archivo:\n",
    "        lineas = archivo.readlines()\n",
    "\n",
    "    datos = []\n",
    "    \n",
    "    for linea in lineas:\n",
    "        datos.append({\n",
    "            \"fecha\": linea[0:10].strip(), # Fecha ocupa los primeros 10 caracteres\n",
    "            \"producto\": linea[10:40].strip(), # Producto ocupa del caracter 10 al 40\n",
    "            \"precio\": int(linea[40:50].strip()), # Precio ocupa del 40 al 50\n",
    "            \"cantidad\": int(linea[50:55].strip()) # Cantidad ocupa del 50 al 55\n",
    "        })\n",
    "\n",
    "    return datos\n",
    "\n",
    "# Cargar los datos desde el archivo\n",
    "datos = cargar_datos()\n",
    "\n",
    "# Ver los 5 primeros registros\n",
    "for registro in datos[:5]:\n",
    "    print(registro)\n",
    "\n",
    "# Ver todos los registros(trunca los resultados `...`)\n",
    "# for registro in datos:\n",
    "#     print(registro)\n"
   ]
  },
  {
   "cell_type": "markdown",
   "metadata": {},
   "source": [
    "## Ejercicio 2: Calcular el total de ventas.\n",
    "\n",
    "Hacer una funcion que sume los importes vendidos (precio * cantidad) y las cantidades"
   ]
  },
  {
   "cell_type": "code",
   "execution_count": 22,
   "metadata": {},
   "outputs": [
    {
     "name": "stdout",
     "output_type": "stream",
     "text": [
      "Las ventas fueron de $392730.00 en 335 unidades\n"
     ]
    }
   ],
   "source": [
    "def calcular_totales(datos):\n",
    "    total_importe = 0\n",
    "    total_cantidad = 0\n",
    "    \n",
    "    # Recorrer cada registro de ventas en 'datos'\n",
    "    for venta in datos:\n",
    "        # Sumar el total de cada venta (precio * cantidad)\n",
    "        total_importe += venta['precio'] * venta['cantidad']\n",
    "        # Sumar la cantidad de productos vendidos\n",
    "        total_cantidad += venta['cantidad']\n",
    "    \n",
    "    return total_importe, total_cantidad\n",
    "\n",
    "importe, cantidad = calcular_totales(datos)\n",
    "\n",
    "print(f\"Las ventas fueron de ${importe:.2f} en {cantidad} unidades\")"
   ]
  },
  {
   "cell_type": "markdown",
   "metadata": {},
   "source": [
    "## Ejercicio 3: Listar las unidades vendidas.\n",
    "\n",
    "Listar cuantas unidades se vendieron en total para cada producto"
   ]
  },
  {
   "cell_type": "code",
   "execution_count": 33,
   "metadata": {},
   "outputs": [
    {
     "name": "stdout",
     "output_type": "stream",
     "text": [
      "Unidades vendidas por producto:\n",
      "• Mirinda: 85 unidades\n",
      "• Torasso: 32 unidades\n",
      "• Pepsi Cola: 89 unidades\n",
      "• Sprite: 72 unidades\n",
      "• Coca Cola: 57 unidades\n"
     ]
    }
   ],
   "source": [
    "def unidades_vendidas(datos):\n",
    "    ventas_por_producto = {}\n",
    "    \n",
    "    # Recorrer todos los registros de ventas\n",
    "    for venta in datos:\n",
    "        producto = venta['producto']\n",
    "        cantidad = venta['cantidad']\n",
    "        \n",
    "        # Si el producto ya está en el diccionario, sumamos la cantidad\n",
    "        if producto in ventas_por_producto:\n",
    "            ventas_por_producto[producto] += cantidad\n",
    "        else:\n",
    "            # Si es la primera vez que vemos este producto, lo agregamos\n",
    "            ventas_por_producto[producto] = cantidad\n",
    "    \n",
    "    return ventas_por_producto\n",
    "\n",
    "def listar_ventas(ventas):\n",
    "    # Imprimir los resultados\n",
    "    print(\"Unidades vendidas por producto:\")\n",
    "    for producto, cantidad in ventas.items():\n",
    "        print(f\"• {producto}: {cantidad} unidades\")\n",
    "\n",
    "ventas = unidades_vendidas(datos)\n",
    "listar_ventas(ventas)\n"
   ]
  },
  {
   "cell_type": "markdown",
   "metadata": {},
   "source": [
    "##  Ejercicio 4: Listar el precio promedio por producto.\n",
    "\n",
    "Hacer un listado del precio promedio por productos."
   ]
  },
  {
   "cell_type": "code",
   "execution_count": 42,
   "metadata": {},
   "outputs": [
    {
     "name": "stdout",
     "output_type": "stream",
     "text": [
      "Precio promedio por producto:\n",
      "• Mirinda: $1545.83\n",
      "• Torasso: $920.00\n",
      "• Pepsi Cola: $1245.00\n",
      "• Sprite: $841.43\n",
      "• Coca Cola: $1072.50\n"
     ]
    }
   ],
   "source": [
    "def precio_promedio(datos):\n",
    "    precios_totales = {}\n",
    "    conteo_productos = {}\n",
    "\n",
    "    # Recorrer los registros de ventas y acumular precios y conteos\n",
    "    for venta in datos:\n",
    "        producto = venta['producto']\n",
    "        precio = venta['precio']\n",
    "        \n",
    "        # Acumular precios totales y contar las ocurrencias\n",
    "        precios_totales[producto] = precios_totales.get(producto, 0) + precio\n",
    "        conteo_productos[producto] = conteo_productos.get(producto, 0) + 1\n",
    "\n",
    "    # Calcular el promedio por producto\n",
    "    promedio_por_producto = {producto: precios_totales[producto] / conteo_productos[producto] for producto in precios_totales}\n",
    "    \n",
    "    return promedio_por_producto\n",
    "\n",
    "def listar_precios(precios):\n",
    "    # Imprimir los precios promedio por producto\n",
    "    print(\"Precio promedio por producto:\")\n",
    "    for producto, promedio in precios.items():\n",
    "        print(f\"• {producto}: ${promedio:.2f}\")\n",
    "\n",
    "\n",
    "precios = precio_promedio(datos)\n",
    "listar_precios(precios)"
   ]
  },
  {
   "cell_type": "markdown",
   "metadata": {},
   "source": [
    "### Ejercicio 5: Ranking de productos\n",
    "\n",
    "Realizar un listado de los 3 productos mas vendidos ordenados la cantidad de unidades vendidas (ordenadas de mayor a menor)\n"
   ]
  },
  {
   "cell_type": "code",
   "execution_count": 46,
   "metadata": {},
   "outputs": [
    {
     "name": "stdout",
     "output_type": "stream",
     "text": [
      "Ranking de productos más vendidos:\n",
      "1. Pepsi Cola: 89 unidades\n",
      "2. Mirinda: 85 unidades\n",
      "3. Sprite: 72 unidades\n"
     ]
    }
   ],
   "source": [
    "def ranking_productos(datos, top=3):\n",
    "    ventas_por_producto = {}\n",
    "\n",
    "    # Sumar las cantidades vendidas por producto\n",
    "    for venta in datos:\n",
    "        producto = venta['producto']\n",
    "        cantidad = venta['cantidad']\n",
    "        ventas_por_producto[producto] = ventas_por_producto.get(producto, 0) + cantidad\n",
    "\n",
    "    # Ordenar los productos por cantidad vendida (de mayor a menor) y devolver los top productos\n",
    "    return sorted(ventas_por_producto.items(), key=lambda x: x[1], reverse=True)[:top]\n",
    "\n",
    "def listar_ranking(ranking):\n",
    "    # Imprimir el ranking de productos\n",
    "    print(\"Ranking de productos más vendidos:\")\n",
    "    for i, (producto, cantidad) in enumerate(ranking, 1):\n",
    "        print(f\"{i}. {producto}: {cantidad} unidades\")\n",
    "\n",
    "ranking = ranking_productos(datos)\n",
    "listar_ranking(ranking)"
   ]
  },
  {
   "cell_type": "markdown",
   "metadata": {},
   "source": [
    "### Ejercicio 6: Listar las ventas por mes\n",
    "\n",
    "Realizar un listado del total de unidades vendidas por productos separada por mes."
   ]
  },
  {
   "cell_type": "code",
   "execution_count": 91,
   "metadata": {},
   "outputs": [
    {
     "name": "stdout",
     "output_type": "stream",
     "text": [
      "Línea ignorada: {'fecha': '2024-08-27', 'producto': 'Mirinda', 'precio': 1510, 'cantidad': 14}\n",
      "Línea ignorada: {'fecha': '2024-08-27', 'producto': 'Mirinda', 'precio': 1560, 'cantidad': 12}\n",
      "Línea ignorada: {'fecha': '2024-08-28', 'producto': 'Torasso', 'precio': 940, 'cantidad': 8}\n",
      "Línea ignorada: {'fecha': '2024-08-29', 'producto': 'Pepsi Cola', 'precio': 1210, 'cantidad': 10}\n",
      "Línea ignorada: {'fecha': '2024-08-30', 'producto': 'Mirinda', 'precio': 1520, 'cantidad': 1}\n"
     ]
    }
   ],
   "source": [
    "def ventas_por_mes(datos):\n",
    "    ventas_mensuales = {}\n",
    "\n",
    "    for linea in datos[:5]: # Limitar solo a 5 registros, para evitar el truncamiento(...)\n",
    "        # Asegúrate de que las líneas no están vacías y tienen al menos el tamaño esperado\n",
    "        if len(linea) >= 53:\n",
    "            # Extraemos la fecha, producto y unidades vendidas\n",
    "            fecha = linea[:10]  # Los primeros 10 caracteres son la fecha (YYYY-MM-DD)\n",
    "            mes = fecha[:7]  # Extraer solo el mes en formato 'YYYY-MM'\n",
    "            producto = linea[10:46].strip()  # Producto desde posición fija (10 a 46)\n",
    "            unidades = int(linea[50:53])  # Unidades desde posición fija (50 a 53)\n",
    "\n",
    "            # Inicializamos el diccionario si no existe para el mes\n",
    "            if mes not in ventas_mensuales:\n",
    "                ventas_mensuales[mes] = {}\n",
    "\n",
    "            # Acumulamos las unidades vendidas por producto\n",
    "            if producto not in ventas_mensuales[mes]:\n",
    "                ventas_mensuales[mes][producto] = 0\n",
    "\n",
    "            ventas_mensuales[mes][producto] += unidades\n",
    "        else:\n",
    "            print(f\"Línea ignorada: {linea}\")  # Para verificar si hay líneas que no cumplen con el formato\n",
    "\n",
    "    return ventas_mensuales\n",
    "\n",
    "\n",
    "def listar_ventas_mensuales(ventas):\n",
    "    for mes, productos in ventas.items():\n",
    "        print(f\"Mes: {mes}\")\n",
    "        for producto, total_unidades in productos.items():\n",
    "            print(f\"  Producto: {producto}, Unidades vendidas: {total_unidades}\")\n",
    "\n",
    "ventas = ventas_por_mes(datos)\n",
    "listar_ventas_mensuales(ventas)\n"
   ]
  },
  {
   "cell_type": "markdown",
   "metadata": {},
   "source": [
    "### Ejercicio 7: Informe general\n",
    "\n",
    "Mostrar un listado de productos ordenados alfabeticamente que contengan el precio promedio, la cantidad de unidades vendidas y el importe total vendido para cada producto"
   ]
  },
  {
   "cell_type": "code",
   "execution_count": 7,
   "metadata": {},
   "outputs": [
    {
     "name": "stdout",
     "output_type": "stream",
     "text": [
      "Producto             Precio Promedio    Unidades Vendidas   Importe Total\n",
      "=========================================================================\n",
      "Coca Cola                       1066                   57           60780\n",
      "Mirinda                         1542                   85          131080\n",
      "Pepsi Cola                      1241                   89          110510\n",
      "Sprite                           847                   72           61040\n",
      "Torasso                          916                   32           29320\n"
     ]
    }
   ],
   "source": [
    "def resumen_ventas(datos):\n",
    "    # Estructura para almacenar la información por producto\n",
    "    productos = {}\n",
    "\n",
    "    # Procesar cada línea del archivo de datos\n",
    "    for linea in datos:\n",
    "        # Parsear los campos: nombre del producto, precio y unidades vendidas\n",
    "        producto = linea[10:45].strip()\n",
    "        precio = int(linea[45:50].strip())\n",
    "        unidades = int(linea[50:].strip())\n",
    "\n",
    "        # Si el producto no está en el diccionario, inicializar\n",
    "        if producto not in productos:\n",
    "            productos[producto] = {'total_precio': 0, 'total_unidades': 0, 'ventas': 0}\n",
    "\n",
    "        # Actualizar la información del producto\n",
    "        productos[producto]['total_precio'] += precio * unidades\n",
    "        productos[producto]['total_unidades'] += unidades\n",
    "        productos[producto]['ventas'] += 1\n",
    "\n",
    "    # Crear un resumen por producto\n",
    "    resumen = []\n",
    "    for producto, info in productos.items():\n",
    "        precio_promedio = info['total_precio'] // info['total_unidades']\n",
    "        total_unidades = info['total_unidades']\n",
    "        importe_total = info['total_precio']\n",
    "        resumen.append((producto, precio_promedio, total_unidades, importe_total))\n",
    "\n",
    "    # Ordenar alfabeticamente por el nombre del producto\n",
    "    resumen.sort(key=lambda x: x[0])\n",
    "    \n",
    "    return resumen\n",
    "\n",
    "def informe_ventas(resumen):\n",
    "    # Encabezado del informe\n",
    "    print(f\"{'Producto':<20} {'Precio Promedio':>15} {'Unidades Vendidas':>20} {'Importe Total':>15}\")\n",
    "    print(\"=\"*73)\n",
    "    \n",
    "    # Mostrar la información de cada producto\n",
    "    for producto, precio_promedio, total_unidades, importe_total in resumen:\n",
    "        print(f\"{producto:<20} {precio_promedio:>15} {total_unidades:>20} {importe_total:>15}\")\n",
    "\n",
    "resumen = resumen_ventas(datos)\n",
    "informe_ventas(resumen)"
   ]
  }
 ],
 "metadata": {
  "kernelspec": {
   "display_name": "Python 3",
   "language": "python",
   "name": "python3"
  },
  "language_info": {
   "codemirror_mode": {
    "name": "ipython",
    "version": 3
   },
   "file_extension": ".py",
   "mimetype": "text/x-python",
   "name": "python",
   "nbconvert_exporter": "python",
   "pygments_lexer": "ipython3",
   "version": "3.12.4"
  }
 },
 "nbformat": 4,
 "nbformat_minor": 2
}
