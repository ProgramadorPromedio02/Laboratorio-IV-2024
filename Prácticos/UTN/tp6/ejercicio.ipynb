{
 "cells": [
  {
   "cell_type": "markdown",
   "metadata": {},
   "source": [
    "# TP6\n",
    "\n",
    "### `Resolver usando Pandas`\n",
    "\n",
    "Resolver los ejercicios del TP3 utilizando la librería Pandas."
   ]
  },
  {
   "cell_type": "markdown",
   "metadata": {},
   "source": [
    "### Ejercicio 1: Cargar Datos de ventas.\n",
    "\n",
    "El archivo datos.dat contiene el registro de las ventas realizadas.\n",
    "\n",
    "Tiene un formato de ancho fijo:\n",
    "- `fecha`:    10 lugares\n",
    "- `producto`: 30 lugares\n",
    "- `precio`:   10 lugares\n",
    "- `cantidad`:  5 lugares\n",
    "\n",
    "Hacer una funcion que cargue los datos en un DataFrame de Pandas."
   ]
  },
  {
   "cell_type": "code",
   "execution_count": 16,
   "metadata": {},
   "outputs": [
    {
     "name": "stdout",
     "output_type": "stream",
     "text": [
      "        fecha    producto  precio  cantidad\n",
      "0  2024-08-27     Mirinda    1510        14\n",
      "1  2024-08-27     Mirinda    1560        12\n",
      "2  2024-08-28     Torasso     940         8\n",
      "3  2024-08-29  Pepsi Cola    1210        10\n",
      "4  2024-08-30     Mirinda    1520         1\n"
     ]
    }
   ],
   "source": [
    "import pandas as pd\n",
    "\n",
    "def cargar_datos():\n",
    "    colspecs = [(0, 10),   \n",
    "                (10, 40),  \n",
    "                (40, 50),  \n",
    "                (50, 55)]\n",
    "    \n",
    "    df = pd.read_fwf('datos.dat', colspecs=colspecs, header=None,\n",
    "                    names=['fecha', 'producto', 'precio', 'cantidad'])\n",
    "    \n",
    "    df['precio'] = pd.to_numeric(df['precio'], errors='coerce')\n",
    "    df['cantidad'] = pd.to_numeric(df['cantidad'], errors='coerce')\n",
    "    \n",
    "    return df\n",
    "\n",
    "# Cargar los datos desde el archivo\n",
    "datos_df = cargar_datos()\n",
    "\n",
    "# Mostrar los primeros 5 registros\n",
    "print(datos_df.head())\n",
    "\n",
    "# Mostrar todos los registros\n",
    "# print(datos_df)\n"
   ]
  },
  {
   "cell_type": "markdown",
   "metadata": {},
   "source": [
    "### Ejercicio 2: Calcular el total de ventas.\n",
    "Hacer una función que sume los importes vendidos (precio * cantidad) y las cantidades.\n"
   ]
  },
  {
   "cell_type": "code",
   "execution_count": 17,
   "metadata": {},
   "outputs": [
    {
     "name": "stdout",
     "output_type": "stream",
     "text": [
      "Las ventas fueron de $392730.00 en 335 unidades\n"
     ]
    }
   ],
   "source": [
    "def calcular_totales(df):\n",
    "    # Calcular el total de importe (precio * cantidad)\n",
    "    total_importe = (df['precio'] * df['cantidad']).sum()\n",
    "    \n",
    "    # Calcular el total de cantidad de productos vendidos\n",
    "    total_cantidad = df['cantidad'].sum()\n",
    "    \n",
    "    return total_importe, total_cantidad\n",
    "\n",
    "importe, cantidad = calcular_totales(datos_df)\n",
    "\n",
    "print(f\"Las ventas fueron de ${importe:.2f} en {cantidad} unidades\")\n"
   ]
  },
  {
   "cell_type": "markdown",
   "metadata": {},
   "source": [
    "### Ejercicio 3: Listar las unidades vendidas.\n",
    "Listar cuántas unidades se vendieron en total para cada producto\n"
   ]
  },
  {
   "cell_type": "code",
   "execution_count": 18,
   "metadata": {},
   "outputs": [
    {
     "name": "stdout",
     "output_type": "stream",
     "text": [
      "Unidades vendidas por producto:\n",
      "• Coca Cola: 57 unidades\n",
      "• Mirinda: 85 unidades\n",
      "• Pepsi Cola: 89 unidades\n",
      "• Sprite: 72 unidades\n",
      "• Torasso: 32 unidades\n"
     ]
    }
   ],
   "source": [
    "def unidades_vendidas(df):\n",
    "    # Agrupar por producto y sumar la cantidad de cada producto\n",
    "    ventas_por_producto = df.groupby('producto')['cantidad'].sum()\n",
    "    \n",
    "    return ventas_por_producto\n",
    "\n",
    "def listar_ventas(ventas):\n",
    "    print(\"Unidades vendidas por producto:\")\n",
    "    for producto, cantidad in ventas.items():\n",
    "        print(f\"• {producto}: {cantidad} unidades\")\n",
    "\n",
    "ventas = unidades_vendidas(datos_df)\n",
    "listar_ventas(ventas)\n"
   ]
  },
  {
   "cell_type": "markdown",
   "metadata": {},
   "source": [
    "###  Ejercicio 4: Listar el precio promedio por producto.\n",
    "Hacer un listado del precio promedio por producto.\n"
   ]
  },
  {
   "cell_type": "code",
   "execution_count": 19,
   "metadata": {},
   "outputs": [
    {
     "name": "stdout",
     "output_type": "stream",
     "text": [
      "Precio promedio por producto:\n",
      "• Coca Cola: $1072.50\n",
      "• Mirinda: $1545.83\n",
      "• Pepsi Cola: $1245.00\n",
      "• Sprite: $841.43\n",
      "• Torasso: $920.00\n"
     ]
    }
   ],
   "source": [
    "def precio_promedio(df):\n",
    "    # Agrupar por producto y calcular el promedio de precios\n",
    "    promedio_por_producto = df.groupby('producto')['precio'].mean()\n",
    "    \n",
    "    return promedio_por_producto\n",
    "\n",
    "def listar_precios(precios):\n",
    "    print(\"Precio promedio por producto:\")\n",
    "    for producto, promedio in precios.items():\n",
    "        print(f\"• {producto}: ${promedio:.2f}\")\n",
    "\n",
    "precios = precio_promedio(datos_df)\n",
    "listar_precios(precios)"
   ]
  },
  {
   "cell_type": "markdown",
   "metadata": {},
   "source": [
    "### Ejercicio 5: Ranking de productos\n",
    "Realizar un listado de los 3 productos más vendidos ordenados por la cantidad de unidades vendidas (ordenadas de mayor a menor)\n"
   ]
  },
  {
   "cell_type": "code",
   "execution_count": 20,
   "metadata": {},
   "outputs": [
    {
     "name": "stdout",
     "output_type": "stream",
     "text": [
      "Ranking de productos más vendidos:\n",
      "1. Pepsi Cola: 89 unidades\n",
      "2. Mirinda: 85 unidades\n",
      "3. Sprite: 72 unidades\n"
     ]
    }
   ],
   "source": [
    "def ranking_productos(df, top=3):\n",
    "    ventas_por_producto = df.groupby('producto')['cantidad'].sum()\n",
    "\n",
    "    # Ordenar por la cantidad de unidades vendidas en orden descendente y seleccionar los top productos\n",
    "    ranking = ventas_por_producto.sort_values(ascending=False).head(top)  \n",
    "    \n",
    "    return ranking\n",
    "\n",
    "def listar_ranking(ranking):\n",
    "    print(\"Ranking de productos más vendidos:\")\n",
    "    for i, (producto, cantidad) in enumerate(ranking.items(), 1):\n",
    "        print(f\"{i}. {producto}: {cantidad} unidades\")\n",
    "\n",
    "ranking = ranking_productos(datos_df)\n",
    "listar_ranking(ranking)"
   ]
  },
  {
   "cell_type": "markdown",
   "metadata": {},
   "source": [
    "### Ejercicio 6: Listar las ventas por mes\n",
    "Realizar un listado del total de unidades vendidas por producto separado por mes.\n"
   ]
  },
  {
   "cell_type": "code",
   "execution_count": 21,
   "metadata": {},
   "outputs": [
    {
     "name": "stdout",
     "output_type": "stream",
     "text": [
      "Mes: 2024-08, Producto: Mirinda, Unidades vendidas: 27\n",
      "Mes: 2024-08, Producto: Pepsi Cola, Unidades vendidas: 10\n",
      "Mes: 2024-08, Producto: Torasso, Unidades vendidas: 8\n",
      "Mes: 2024-09, Producto: Coca Cola, Unidades vendidas: 57\n",
      "Mes: 2024-09, Producto: Mirinda, Unidades vendidas: 58\n",
      "Mes: 2024-09, Producto: Pepsi Cola, Unidades vendidas: 79\n",
      "Mes: 2024-09, Producto: Sprite, Unidades vendidas: 72\n",
      "Mes: 2024-09, Producto: Torasso, Unidades vendidas: 24\n"
     ]
    }
   ],
   "source": [
    "def ventas_por_mes(df):\n",
    "    # Extraer el año y mes directamente como una cadena (YYYY-MM)\n",
    "    df['mes'] = df['fecha'].str[:7]  # Extrae los primeros 7 caracteres de la fecha\n",
    "    \n",
    "    # Agrupar por mes y producto, luego sumar las cantidades\n",
    "    ventas_mensuales = df.groupby(['mes', 'producto'])['cantidad'].sum().reset_index()\n",
    "    \n",
    "    return ventas_mensuales\n",
    "\n",
    "def listar_ventas_mensuales(ventas):\n",
    "    for _, row in ventas.iterrows():\n",
    "        print(f\"Mes: {row['mes']}, Producto: {row['producto']}, Unidades vendidas: {row['cantidad']}\")\n",
    "\n",
    "ventas = ventas_por_mes(datos_df)\n",
    "listar_ventas_mensuales(ventas)"
   ]
  },
  {
   "cell_type": "markdown",
   "metadata": {},
   "source": [
    "### Ejercicio 7: Informe general\n",
    "\n",
    "Mostrar un listado de productos ordenados alfabeticamente que contengan el precio promedio, la cantidad de unidades vendidas y el importe total vendido para cada producto"
   ]
  },
  {
   "cell_type": "code",
   "execution_count": 22,
   "metadata": {},
   "outputs": [
    {
     "name": "stdout",
     "output_type": "stream",
     "text": [
      "Producto                       Precio Promedio    Unidades Vendidas   Importe Total\n",
      "===================================================================================\n",
      "Coca Cola                              1072.50                   57        60780.00\n",
      "Mirinda                                1545.83                   85       131080.00\n",
      "Pepsi Cola                             1245.00                   89       110510.00\n",
      "Sprite                                  841.43                   72        61040.00\n",
      "Torasso                                 920.00                   32        29320.00\n"
     ]
    }
   ],
   "source": [
    "def resumen_ventas(df):\n",
    "    # Calcular las métricas necesarias por producto\n",
    "    resumen = df.groupby('producto').agg(\n",
    "        precio_promedio=('precio', 'mean'),\n",
    "        total_unidades=('cantidad', 'sum'),\n",
    "        importe_total=('precio', lambda x: (x * df.loc[x.index, 'cantidad']).sum())\n",
    "    ).reset_index()\n",
    "    \n",
    "    # Ordenar por el nombre del producto alfabéticamente\n",
    "    resumen = resumen.sort_values(by='producto')\n",
    "    \n",
    "    return resumen\n",
    "\n",
    "def informe_ventas(resumen):\n",
    "    # Encabezado del informe\n",
    "    print(f\"{'Producto':<30} {'Precio Promedio':>15} {'Unidades Vendidas':>20} {'Importe Total':>15}\")\n",
    "    print(\"=\"*83)\n",
    "    \n",
    "    # Mostrar la información de cada producto\n",
    "    for _, row in resumen.iterrows():\n",
    "        print(f\"{row['producto']:<30} {row['precio_promedio']:>15.2f} {row['total_unidades']:>20} {row['importe_total']:>15.2f}\")\n",
    "\n",
    "resumen = resumen_ventas(datos_df)\n",
    "informe_ventas(resumen)"
   ]
  },
  {
   "cell_type": "markdown",
   "metadata": {},
   "source": [
    "## `Resolver usando NumPy`\n",
    "## Resolver el ejercicio 2 del tp1 usando NumPy"
   ]
  },
  {
   "cell_type": "markdown",
   "metadata": {},
   "source": [
    "### Ejercicio 8\n",
    "\n",
    "Escribe una función en Python que encuentre los valores de `a`, `b`, y `c` para que la función cuadrática `f(x) = a x^2 + b x + c` pase exactamente por los siguientes puntos:\n",
    "\n",
    "| x  | y  |\n",
    "|---:|---:|\n",
    "|  0 |  0 |\n",
    "|  1 |  8 |\n",
    "|  2 | 12 |\n",
    "|  3 | 12 |\n",
    "|  5 |  0 |\n",
    "\n",
    "### Requisitos:\n",
    "- La función debe explorar posibles valores de `a`, `b`, y `c` utilizando un método de prueba y error.\n",
    "- Debe devolver los valores que hagan que la diferencia entre la función `f(x)` y los valores medidos `y` sea exactamente cero para cada punto.\n",
    "\n",
    "> **Pista**: Los valores de `a`, `b`, y `c` son números pequeños.\n",
    "\n",
    "La idea es implementar el mismo algoritmo que se uso en el TP1 pero usando NumPy en lugar de Python puro."
   ]
  },
  {
   "cell_type": "code",
   "execution_count": 23,
   "metadata": {},
   "outputs": [
    {
     "data": {
      "text/plain": [
       "array([-2.00000000e+00,  1.00000000e+01, -1.23812445e-14])"
      ]
     },
     "execution_count": 23,
     "metadata": {},
     "output_type": "execute_result"
    }
   ],
   "source": [
    "import numpy as np\n",
    "def f(x, coeficientes):\n",
    "    a,b,c = coeficientes\n",
    "    return a*x**2 + b*x + c\n",
    "\n",
    "def error(y, y_pred):\n",
    "    return y - y_pred\n",
    "\n",
    "X = np.array([0,1,2,3,5])\n",
    "Y = np.array([0,8,12,12,0])\n",
    "\n",
    "def buscar_coeficientes():\n",
    "    # Ajustar un polinomio de grado 2 (parámetro deg=2) a los puntos X, Y\n",
    "    coeficientes = np.polyfit(X, Y, deg=2)\n",
    "    return coeficientes\n",
    "\n",
    "coeficientes = buscar_coeficientes()\n",
    "coeficientes"
   ]
  },
  {
   "cell_type": "markdown",
   "metadata": {},
   "source": [
    "### Ejercicio 9: Resolver el ejercicio 3 del TP1 usando NumPy\n",
    "Buscar los coeficientes de la función que minimice la suma de los cuadrados de las diferencias entre los valores medidos y los valores de la función.\n",
    "\n",
    "1. Crear un array con los coeficientes elegidos al azar (usar `randint(-10,10,3)`).\n",
    "2. Calcular el valor de la función y el error correspondiente.\n",
    "3. Mientras que el error sea mayor a 1:\n",
    "    1. Definir nuevos coeficientes agregándoles un pequeño valor al azar a los coeficientes actuales (aprendizaje = 0.001).\n",
    "    2. Si el error para los nuevos coeficientes es menor que el anterior, reemplazar los coeficientes actuales por los nuevos.\n"
   ]
  },
  {
   "cell_type": "code",
   "execution_count": 24,
   "metadata": {},
   "outputs": [
    {
     "data": {
      "text/plain": [
       "array([-1.823e+00,  9.305e+00, -3.000e-03])"
      ]
     },
     "execution_count": 24,
     "metadata": {},
     "output_type": "execute_result"
    }
   ],
   "source": [
    "import numpy as np\n",
    "from numpy.random import randint\n",
    "\n",
    "def f(x, coeficientes):\n",
    "    a,b,c = coeficientes\n",
    "    return a*x**2 + b*x + c\n",
    "\n",
    "def error(y, y_pred):\n",
    "    return np.sum((y - y_pred)**2)\n",
    "\n",
    "X = np.array([0, 1, 2, 3, 5])\n",
    "Y = np.array([0, 8,12,11, 1]) # Observar que no son los mismos valores que en el ejemplo anterior\n",
    "\n",
    "def buscar_coeficientes(X, Y, aprendizaje=0.001, error_tolerancia=1):\n",
    "    # Generar coeficientes aleatorios iniciales entre -10 y 10\n",
    "    coeficientes = randint(-10, 10, 3)\n",
    "    \n",
    "    # Calcular el error inicial\n",
    "    y_pred = f(X, coeficientes)\n",
    "    err_actual = error(Y, y_pred)\n",
    "    \n",
    "    # Iterar mientras el error sea mayor que la tolerancia\n",
    "    while err_actual > error_tolerancia:\n",
    "        # Generar un pequeño valor aleatorio con randint para modificar los coeficientes\n",
    "        # Este valor puede ser entre -1 y 1, multiplicado por el aprendizaje\n",
    "        ajuste = (randint(-1, 2, 3)) * aprendizaje  # randint entre -1 y 1\n",
    "        \n",
    "        # Actualizar los coeficientes\n",
    "        nuevos_coeficientes = coeficientes + ajuste\n",
    "        \n",
    "        # Calcular el nuevo error con los nuevos coeficientes\n",
    "        y_pred_nuevo = f(X, nuevos_coeficientes)\n",
    "        err_nuevo = error(Y, y_pred_nuevo)\n",
    "        \n",
    "        # Si el nuevo error es menor, actualizamos los coeficientes\n",
    "        if err_nuevo < err_actual:\n",
    "            coeficientes = nuevos_coeficientes\n",
    "            err_actual = err_nuevo\n",
    "    \n",
    "    return coeficientes\n",
    "\n",
    "coeficientes = buscar_coeficientes(X, Y)\n",
    "coeficientes"
   ]
  }
 ],
 "metadata": {
  "kernelspec": {
   "display_name": "Python 3",
   "language": "python",
   "name": "python3"
  },
  "language_info": {
   "codemirror_mode": {
    "name": "ipython",
    "version": 3
   },
   "file_extension": ".py",
   "mimetype": "text/x-python",
   "name": "python",
   "nbconvert_exporter": "python",
   "pygments_lexer": "ipython3",
   "version": "3.12.4"
  }
 },
 "nbformat": 4,
 "nbformat_minor": 2
}
