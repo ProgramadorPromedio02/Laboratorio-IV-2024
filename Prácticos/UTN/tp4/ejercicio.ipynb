{
 "cells": [
  {
   "cell_type": "markdown",
   "metadata": {},
   "source": [
    "# Simulación del Truco"
   ]
  },
  {
   "cell_type": "markdown",
   "metadata": {},
   "source": [
    "Las **cartas** deben registra el numero, palo y valor de la carta. \n",
    "El valor debe reflejar la jerarquía de las cartas en el juego del truco."
   ]
  },
  {
   "cell_type": "code",
   "execution_count": 4,
   "metadata": {},
   "outputs": [
    {
     "data": {
      "text/plain": [
       "Carta(numero=1, palo='oro', valor=8)"
      ]
     },
     "execution_count": 4,
     "metadata": {},
     "output_type": "execute_result"
    }
   ],
   "source": [
    "def calcular_valor(numero, palo):\n",
    "    # Defino la variable jerarquía de las cartas para hacer el Truco\n",
    "    jerarquia = {\n",
    "        (1, 'espada'): 14,  # Ancho de espadas\n",
    "        (1, 'basto'): 13,   # Ancho de bastos\n",
    "        (7, 'espada'): 12,  # Siete de espadas\n",
    "        (7, 'oro'): 11,     # Siete de oros\n",
    "        (3, 'espada'): 10, (3, 'basto'): 10, (3, 'oro'): 10, (3, 'copa'): 10,  # Tres\n",
    "        (2, 'espada'): 9, (2, 'basto'): 9, (2, 'oro'): 9, (2, 'copa'): 9,      # Dos\n",
    "        (1, 'oro'): 8, (1, 'copa'): 8,                                          # Falsos\n",
    "        (12, 'espada'): 7, (12, 'basto'): 7, (12, 'oro'): 7, (12, 'copa'): 7,  # Doce\n",
    "        (11, 'espada'): 6, (11, 'basto'): 6, (11, 'oro'): 6, (11, 'copa'): 6,  # Once\n",
    "        (10, 'espada'): 5, (10, 'basto'): 5, (10, 'oro'): 5, (10, 'copa'): 5,  # Diez\n",
    "        (7, 'basto'): 4, (7, 'copa'): 4,                                        # Siete falsos\n",
    "        (6, 'espada'): 3, (6, 'basto'): 3, (6, 'oro'): 3, (6, 'copa'): 3,      # Seis\n",
    "        (5, 'espada'): 2, (5, 'basto'): 2, (5, 'oro'): 2, (5, 'copa'): 2,      # Cinco\n",
    "        (4, 'espada'): 1, (4, 'basto'): 1, (4, 'oro'): 1, (4, 'copa'): 1       # Cuatro\n",
    "    }\n",
    "    # Devuelve el valor de la carta según la jerarquía\n",
    "    return jerarquia.get((numero, palo), 0)  # Si no está en el diccionario, devuelve 0\n",
    "\n",
    "class Carta:\n",
    "    def __init__(self, numero, palo):\n",
    "        self.numero = numero\n",
    "        self.palo = palo\n",
    "        self.valor = calcular_valor(numero, palo)\n",
    "\n",
    "    def __repr__(self):\n",
    "        return f\"Carta(numero={self.numero}, palo='{self.palo}', valor={self.valor})\"\n",
    "\n",
    "c = Carta(1, \"oro\")\n",
    "c\n"
   ]
  },
  {
   "cell_type": "markdown",
   "metadata": {},
   "source": [
    "**Mazo**: Representan las cartas españolas de 1 al 12, en los palos de oro, copa, espada y basto.\n",
    "\n",
    "Debe existir una función que permita barajar las cartas.\n",
    "y otra función que permita repartir las cartas a los jugadores."
   ]
  },
  {
   "cell_type": "code",
   "execution_count": 5,
   "metadata": {},
   "outputs": [
    {
     "name": "stdout",
     "output_type": "stream",
     "text": [
      "[Carta(numero=6, palo='copa', valor=3), Carta(numero=6, palo='espada', valor=3), Carta(numero=7, palo='espada', valor=12)]\n"
     ]
    }
   ],
   "source": [
    "import random\n",
    "\n",
    "class Mazo:\n",
    "    def __init__(self):\n",
    "        # Genero todas las combinaciones de números y palos\n",
    "        numeros = list(range(1, 13))  # Números del 1 al 12\n",
    "        palos = ['oro', 'copa', 'espada', 'basto']\n",
    "        # Creo el mazo con todas las cartas posibles\n",
    "        self.cartas = [Carta(numero, palo) for numero in numeros for palo in palos]\n",
    "    \n",
    "    def mezclar(self):\n",
    "        # Mezclo las cartas del mazo\n",
    "        random.shuffle(self.cartas)\n",
    "    \n",
    "    def repartir(self, cantidad):\n",
    "        # Reparto la cantidad de cartas solicitadas\n",
    "        if cantidad > len(self.cartas):\n",
    "            return \"No hay suficientes cartas en el mazo.\"\n",
    "        # Tomo las primeras cantidad de cartas\n",
    "        cartas_repartidas = self.cartas[:cantidad]\n",
    "        # Elimino esas cartas del mazo\n",
    "        self.cartas = self.cartas[cantidad:]\n",
    "        return cartas_repartidas\n",
    "\n",
    "m = Mazo()\n",
    "m.mezclar()\n",
    "print(m.repartir(3))\n"
   ]
  },
  {
   "cell_type": "markdown",
   "metadata": {},
   "source": [
    "**Jugador**: Deben tener un nombre y las cartas que tiene en la mano. Debe acumular los puntos ganados.\n",
    "\n",
    "Nota: Para simplificar el problema, el jugador elige la carta a jugar de forma aleatoria."
   ]
  },
  {
   "cell_type": "code",
   "execution_count": 10,
   "metadata": {},
   "outputs": [
    {
     "name": "stdout",
     "output_type": "stream",
     "text": [
      "Carta(numero=12, palo='oro', valor=7)\n"
     ]
    }
   ],
   "source": [
    "class Jugador:\n",
    "    def __init__(self, nombre):\n",
    "        # Inicializa el jugador con un nombre, sin cartas y con 0 puntos\n",
    "        self.nombre = nombre\n",
    "        self.mano = []\n",
    "        self.puntos = 0\n",
    "\n",
    "    def recibir_cartas(self, cartas):\n",
    "        # Agrega las cartas recibidas a la mano del jugador\n",
    "        self.mano.extend(cartas)\n",
    "    \n",
    "    def jugar_carta(self):\n",
    "        # Si el jugador no tiene cartas en la mano, no puede jugar\n",
    "        if not self.mano:\n",
    "            return \"No hay cartas en la mano.\"\n",
    "        # Elige una carta aleatoria de la mano\n",
    "        carta_jugada = random.choice(self.mano)\n",
    "        # Elimina la carta de la mano\n",
    "        self.mano.remove(carta_jugada)\n",
    "        return carta_jugada\n",
    "\n",
    "j = Jugador(\"Juan\")\n",
    "j.recibir_cartas(m.repartir(3))\n",
    "print(j.jugar_carta())"
   ]
  },
  {
   "cell_type": "markdown",
   "metadata": {},
   "source": [
    "**Partida**: Debe tener dos jugadores, un mazo de cartas y un puntaje. Debe permitir jugar una carta por ronda y definir el ganador de la ronda. Debe permitir jugar hasta que se terminen las cartas del mazo."
   ]
  },
  {
   "cell_type": "code",
   "execution_count": 18,
   "metadata": {},
   "outputs": [
    {
     "name": "stdout",
     "output_type": "stream",
     "text": [
      "Juan gana la ronda con (Carta(numero=6, palo='espada', valor=3), Carta(numero=8, palo='espada', valor=0)).\n",
      "Juan gana la ronda con (Carta(numero=11, palo='basto', valor=6), Carta(numero=10, palo='espada', valor=5)).\n",
      "Pedro gana la ronda con (Carta(numero=4, palo='basto', valor=1), Carta(numero=5, palo='basto', valor=2)).\n",
      "Empate en la ronda con cartas: (Carta(numero=8, palo='oro', valor=0), Carta(numero=9, palo='oro', valor=0))\n",
      "Juan gana la ronda con (Carta(numero=12, palo='basto', valor=7), Carta(numero=11, palo='oro', valor=6)).\n",
      "Juan gana la ronda con (Carta(numero=1, palo='espada', valor=14), Carta(numero=5, palo='copa', valor=2)).\n",
      "Empate en la ronda con cartas: (Carta(numero=2, palo='oro', valor=9), Carta(numero=2, palo='copa', valor=9))\n",
      "Pedro gana la ronda con (Carta(numero=11, palo='copa', valor=6), Carta(numero=3, palo='basto', valor=10)).\n",
      "Juan gana la ronda con (Carta(numero=1, palo='copa', valor=8), Carta(numero=8, palo='basto', valor=0)).\n",
      "Juan gana la ronda con (Carta(numero=6, palo='copa', valor=3), Carta(numero=4, palo='espada', valor=1)).\n",
      "Juan gana la ronda con (Carta(numero=5, palo='espada', valor=2), Carta(numero=9, palo='espada', valor=0)).\n",
      "Juan gana la ronda con (Carta(numero=2, palo='espada', valor=9), Carta(numero=12, palo='copa', valor=7)).\n",
      "Pedro gana la ronda con (Carta(numero=7, palo='oro', valor=11), Carta(numero=7, palo='espada', valor=12)).\n",
      "Pedro gana la ronda con (Carta(numero=9, palo='basto', valor=0), Carta(numero=10, palo='copa', valor=5)).\n",
      "Pedro gana la ronda con (Carta(numero=5, palo='oro', valor=2), Carta(numero=3, palo='copa', valor=10)).\n",
      "Pedro gana la ronda con (Carta(numero=8, palo='copa', valor=0), Carta(numero=1, palo='basto', valor=13)).\n",
      "Empate en la ronda con cartas: (Carta(numero=10, palo='oro', valor=5), Carta(numero=10, palo='basto', valor=5))\n",
      "Pedro gana la ronda con (Carta(numero=7, palo='copa', valor=4), Carta(numero=12, palo='oro', valor=7)).\n",
      "Empate en la ronda con cartas: (Carta(numero=3, palo='espada', valor=10), Carta(numero=3, palo='oro', valor=10))\n",
      "Juan gana la ronda con (Carta(numero=11, palo='espada', valor=6), Carta(numero=6, palo='oro', valor=3)).\n",
      "Juan gana la ronda con (Carta(numero=12, palo='espada', valor=7), Carta(numero=7, palo='basto', valor=4)).\n",
      "Juan gana la ronda con (Carta(numero=6, palo='basto', valor=3), Carta(numero=4, palo='oro', valor=1)).\n",
      "Juan gana la ronda con (Carta(numero=2, palo='basto', valor=9), Carta(numero=9, palo='copa', valor=0)).\n",
      "Juan gana la ronda con (Carta(numero=1, palo='oro', valor=8), Carta(numero=4, palo='copa', valor=1)).\n",
      "No hay más cartas en el mazo. Fin de la partida.\n",
      "La partida termina en empate.\n"
     ]
    }
   ],
   "source": [
    "class Partida:\n",
    "    def __init__(self, jugador1, jugador2):\n",
    "        # Inicio los jugadores y el mazo\n",
    "        self.jugador1 = jugador1\n",
    "        self.jugador2 = jugador2\n",
    "        self.mazo = Mazo()\n",
    "        self.mazo.mezclar()  # Mezclo el mazo\n",
    "        self.puntaje = {jugador1.nombre: 0, jugador2.nombre: 0}  # Puntaje de cada jugador\n",
    "\n",
    "    def jugar_ronda(self):\n",
    "        # Ambos jugadores juegan una carta\n",
    "        carta_j1 = self.jugador1.jugar_carta()\n",
    "        carta_j2 = self.jugador2.jugar_carta()\n",
    "\n",
    "        # Verifico que ambos jugadores hayan podido jugar una carta\n",
    "        if isinstance(carta_j1, str) or isinstance(carta_j2, str):\n",
    "            return None, \"No hay suficientes cartas para jugar una ronda.\"\n",
    "\n",
    "        # Determino el ganador de la ronda comparando el valor de las cartas\n",
    "        if carta_j1.valor > carta_j2.valor:\n",
    "            ganador = self.jugador1.nombre\n",
    "            self.puntaje[ganador] += 1\n",
    "        elif carta_j1.valor < carta_j2.valor:\n",
    "            ganador = self.jugador2.nombre\n",
    "            self.puntaje[ganador] += 1\n",
    "        else:\n",
    "            ganador = None  # Empate\n",
    "\n",
    "        return ganador, (carta_j1, carta_j2)\n",
    "\n",
    "    def jugar(self):\n",
    "        # Mientras que ningún jugador acumule 15 puntos\n",
    "        while self.puntaje[self.jugador1.nombre] < 15 and self.puntaje[self.jugador2.nombre] < 15:\n",
    "            # Reparte 3 cartas a cada jugador\n",
    "            self.jugador1.recibir_cartas(self.mazo.repartir(3))\n",
    "            self.jugador2.recibir_cartas(self.mazo.repartir(3))\n",
    "\n",
    "            # Se juega hasta que ambos jugadores se queden sin cartas en la mano\n",
    "            while self.jugador1.mano and self.jugador2.mano:\n",
    "                ganador, cartas = self.jugar_ronda()\n",
    "                if ganador:\n",
    "                    print(f\"{ganador} gana la ronda con {cartas}.\")\n",
    "                else:\n",
    "                    print(\"Empate en la ronda con cartas:\", cartas)\n",
    "\n",
    "            # Si ya no quedan cartas en el mazo, terminamos la partida\n",
    "            if len(self.mazo.cartas) == 0:\n",
    "                print(\"No hay más cartas en el mazo. Fin de la partida.\")\n",
    "                break\n",
    "\n",
    "        # Determina el ganador final de la partida\n",
    "        if self.puntaje[self.jugador1.nombre] >= 15:\n",
    "            print(f\"¡{self.jugador1.nombre} gana la partida con {self.puntaje[self.jugador1.nombre]} puntos!\")\n",
    "        elif self.puntaje[self.jugador2.nombre] >= 15:\n",
    "            print(f\"¡{self.jugador2.nombre} gana la partida con {self.puntaje[self.jugador2.nombre]} puntos!\")\n",
    "        else:\n",
    "            print(\"La partida termina en empate.\")\n",
    "\n",
    "p = Partida(Jugador(\"Juan\"), Jugador(\"Pedro\"))\n",
    "p.jugar()"
   ]
  }
 ],
 "metadata": {
  "kernelspec": {
   "display_name": "Python 3",
   "language": "python",
   "name": "python3"
  },
  "language_info": {
   "codemirror_mode": {
    "name": "ipython",
    "version": 3
   },
   "file_extension": ".py",
   "mimetype": "text/x-python",
   "name": "python",
   "nbconvert_exporter": "python",
   "pygments_lexer": "ipython3",
   "version": "3.12.4"
  }
 },
 "nbformat": 4,
 "nbformat_minor": 2
}
